{
  "nbformat": 4,
  "nbformat_minor": 0,
  "metadata": {
    "colab": {
      "name": "ORTEC (2).ipynb",
      "version": "0.3.2",
      "views": {},
      "default_view": {},
      "provenance": [],
      "collapsed_sections": []
    },
    "kernelspec": {
      "display_name": "Python 3",
      "language": "python",
      "name": "python3"
    }
  },
  "cells": [
    {
      "metadata": {
        "id": "gUH91JWlJAQX",
        "colab_type": "text"
      },
      "cell_type": "markdown",
      "source": [
        "# Invoice reading NLP system\n",
        "Remember this image? IT IS BACK!!!\n",
        "![System image](https://storage.googleapis.com/aibootcamp/general_assets/ml_system_architecture.png)\n",
        "\n",
        "\n",
        "This week is all about system building. Because hardly ever does a ML system stand alone. Your success in building a system for Ortec Finance depends as much on what is around your neural net as it depends on the neural net itself. This baseline is my approach to the problem. Much in this notebook was hacked together so I am sure you can improve on many points. Perhaps you even come up with a completely different approach.\n",
        "\n",
        "## The approach, character wise classification:\n",
        "The goal of the task is to extract information from the invoice. The invoice has been run through optical character recognition (OCR). OCR turns PDFs into texts but often messes up the order and confuses come characters. **To extract information from this text, we classify each character by category**. \n",
        "\n",
        "Take an example, if we just wanted to get the amount we would classify the characters like this:\n",
        "\n",
        "|T|O|T|A|L|:| |€| |4|3|6|.|0|0|\n",
        "|-|-|-|-|-|-|-|-|-|-|-|-|-|-|-|\n",
        "|0|0|0|0|0|0|0|1|1|1|1|1|1|1|1|\n",
        "\n",
        "We classify our text into 6 classes here:\n",
        "\n",
        "Ignore:           0\n",
        "Sender Name:      1 \n",
        "Sender KVK:       2 \n",
        "Sender IBAN:      3 \n",
        "Invoice Reference:4\n",
        "Total:            5\n",
        "\n",
        "These are the classes that the training data generator tags. But the class of a character does not only depend on the character. It depends on its surroundings as well. To train our model, we create substrings of our invoice that include a certain amount of preceeding and succeeding characters. The amount of preceding and succeeding characters is defined in the `PADDING` global variable. \n",
        "\n",
        "If for example we wanted to classify the character '€' from the example above and had `PADDING = 3` we would feed\n",
        "'L: € 43' into our network. You can see how the amount of padding has a great influence on the performance of our system.\n",
        "\n",
        "## Post processing:\n",
        "A significant part of model performance stems from what is done with the outputs of the neural net. This approach groups predictions to prediction sequences and only keeps predictions in which 5 consecutive characters were grouped into the same category. An approach to try would be to allow sequences to be interrupted by one character. Another nice add on would be to rank predicted sequences by the total confidence the neural network has in the sequence. \n",
        "\n",
        "## Some tips:\n",
        "For this assignment you can dive pretty deep into software development. \n",
        "You might find these jupyter tricks helpful: https://www.dataquest.io/blog/jupyter-notebook-tips-tricks-shortcuts/\n",
        "\n",
        "Especially debugging with `pdb` really makes things easier: https://docs.python.org/3.5/library/pdb.html#debugger-commands\n",
        "\n",
        "Basically, if anything crashes, you can start a new cell and enter `%debug`. You then come to a command line in which you can look around what happened at the crash.\n",
        "The debugger has some special commands. For example `p my_var` prints out a variable. This also works for other python operations, e.g. `p len(my_list)`.\n",
        "\n",
        "Good luck with building a great system!"
      ]
    },
    {
      "metadata": {
        "id": "J_mZzOVTJT6D",
        "colab_type": "code",
        "colab": {
          "autoexec": {
            "startup": false,
            "wait_interval": 0
          },
          "output_extras": [
            {
              "item_id": 2
            }
          ],
          "base_uri": "https://localhost:8080/",
          "height": 207
        },
        "outputId": "e6145fb3-3cbd-41fa-b32c-58249221f642",
        "executionInfo": {
          "status": "ok",
          "timestamp": 1521490934760,
          "user_tz": -60,
          "elapsed": 1979,
          "user": {
            "displayName": "Fernando Lasso",
            "photoUrl": "//lh5.googleusercontent.com/-nEu68SAVl9Y/AAAAAAAAAAI/AAAAAAAABSo/fc8BpWFBAC8/s50-c-k-no/photo.jpg",
            "userId": "102520388349909004575"
          }
        }
      },
      "cell_type": "code",
      "source": [
        "# Setup \n",
        "!wget https://storage.googleapis.com/aibootcamp/data/ortec_templates_updated.zip"
      ],
      "execution_count": 1,
      "outputs": [
        {
          "output_type": "stream",
          "text": [
            "--2018-03-19 20:21:50--  https://storage.googleapis.com/aibootcamp/data/ortec_templates_updated.zip\r\n",
            "Resolving storage.googleapis.com (storage.googleapis.com)... 74.125.28.128, 2607:f8b0:400e:c03::80\r\n",
            "Connecting to storage.googleapis.com (storage.googleapis.com)|74.125.28.128|:443... connected.\n",
            "HTTP request sent, awaiting response... 200 OK\n",
            "Length: 20419 (20K) [application/zip]\n",
            "Saving to: ‘ortec_templates_updated.zip’\n",
            "\n",
            "ortec_templates_upd 100%[===================>]  19.94K  --.-KB/s    in 0s      \n",
            "\n",
            "2018-03-19 20:21:50 (61.8 MB/s) - ‘ortec_templates_updated.zip’ saved [20419/20419]\n",
            "\n"
          ],
          "name": "stdout"
        }
      ]
    },
    {
      "metadata": {
        "id": "6hjsuqgc-uCS",
        "colab_type": "code",
        "colab": {
          "autoexec": {
            "startup": false,
            "wait_interval": 0
          },
          "output_extras": [
            {
              "item_id": 1
            }
          ],
          "base_uri": "https://localhost:8080/",
          "height": 34
        },
        "outputId": "0e2846ef-6559-4e83-f25e-2e38778d1677",
        "executionInfo": {
          "status": "ok",
          "timestamp": 1521492806716,
          "user_tz": -60,
          "elapsed": 1828,
          "user": {
            "displayName": "Fernando Lasso",
            "photoUrl": "//lh5.googleusercontent.com/-nEu68SAVl9Y/AAAAAAAAAAI/AAAAAAAABSo/fc8BpWFBAC8/s50-c-k-no/photo.jpg",
            "userId": "102520388349909004575"
          }
        }
      },
      "cell_type": "code",
      "source": [
        "!ls"
      ],
      "execution_count": 1,
      "outputs": [
        {
          "output_type": "stream",
          "text": [
            "datalab  __MACOSX  ortec_templates_updated.zip\ttemplates\r\n"
          ],
          "name": "stdout"
        }
      ]
    },
    {
      "metadata": {
        "id": "qXnlL2boJjII",
        "colab_type": "code",
        "colab": {
          "autoexec": {
            "startup": false,
            "wait_interval": 0
          },
          "output_extras": [
            {
              "item_id": 1
            }
          ],
          "base_uri": "https://localhost:8080/",
          "height": 328
        },
        "outputId": "79ba2535-2501-4669-b01c-760b284591d4",
        "executionInfo": {
          "status": "ok",
          "timestamp": 1521490938241,
          "user_tz": -60,
          "elapsed": 1465,
          "user": {
            "displayName": "Fernando Lasso",
            "photoUrl": "//lh5.googleusercontent.com/-nEu68SAVl9Y/AAAAAAAAAAI/AAAAAAAABSo/fc8BpWFBAC8/s50-c-k-no/photo.jpg",
            "userId": "102520388349909004575"
          }
        }
      },
      "cell_type": "code",
      "source": [
        "!unzip ortec_templates_updated.zip"
      ],
      "execution_count": 3,
      "outputs": [
        {
          "output_type": "stream",
          "text": [
            "Archive:  ortec_templates_updated.zip\r\n",
            "   creating: templates/\r\n",
            "  inflating: templates/.DS_Store     \r\n",
            "   creating: __MACOSX/\r\n",
            "   creating: __MACOSX/templates/\r\n",
            "  inflating: __MACOSX/templates/._.DS_Store  \r\n",
            "  inflating: templates/invoicegen.py  \r\n",
            "  inflating: __MACOSX/templates/._invoicegen.py  \r\n",
            "   creating: templates/__pycache__/\r\n",
            "  inflating: templates/__pycache__/invoicegen.cpython-35.pyc  \r\n",
            "   creating: templates/.ipynb_checkpoints/\r\n",
            "  inflating: templates/.ipynb_checkpoints/Untitled1-checkpoint.ipynb  \r\n",
            "  inflating: templates/.ipynb_checkpoints/Untitled-checkpoint.ipynb  \r\n",
            "  inflating: templates/.ipynb_checkpoints/Baseline Ortec-checkpoint.ipynb  \r\n",
            "  inflating: templates/TEMPLATE_1.txt  \r\n",
            "  inflating: __MACOSX/templates/._TEMPLATE_1.txt  \r\n",
            "  inflating: templates/TEMPLATE_2.txt  \r\n",
            "  inflating: __MACOSX/templates/._TEMPLATE_2.txt  \r\n"
          ],
          "name": "stdout"
        }
      ]
    },
    {
      "metadata": {
        "id": "_DnStomIJjRk",
        "colab_type": "code",
        "colab": {
          "autoexec": {
            "startup": false,
            "wait_interval": 0
          },
          "output_extras": [
            {
              "item_id": 1
            }
          ],
          "base_uri": "https://localhost:8080/",
          "height": 34
        },
        "outputId": "7bc7725b-6c9d-4241-8b64-b3242e520a2e",
        "executionInfo": {
          "status": "ok",
          "timestamp": 1521490939762,
          "user_tz": -60,
          "elapsed": 1489,
          "user": {
            "displayName": "Fernando Lasso",
            "photoUrl": "//lh5.googleusercontent.com/-nEu68SAVl9Y/AAAAAAAAAAI/AAAAAAAABSo/fc8BpWFBAC8/s50-c-k-no/photo.jpg",
            "userId": "102520388349909004575"
          }
        }
      },
      "cell_type": "code",
      "source": [
        "!ls"
      ],
      "execution_count": 4,
      "outputs": [
        {
          "output_type": "stream",
          "text": [
            "datalab  __MACOSX  ortec_templates_updated.zip\ttemplates\r\n"
          ],
          "name": "stdout"
        }
      ]
    },
    {
      "metadata": {
        "id": "caddquRKJ2vC",
        "colab_type": "code",
        "colab": {
          "autoexec": {
            "startup": false,
            "wait_interval": 0
          }
        }
      },
      "cell_type": "code",
      "source": [
        "!pip install -q keras"
      ],
      "execution_count": 0,
      "outputs": []
    },
    {
      "metadata": {
        "id": "i3EuDqPXJAQZ",
        "colab_type": "text"
      },
      "cell_type": "markdown",
      "source": [
        "## Loading templates"
      ]
    },
    {
      "metadata": {
        "id": "Mq9VfteLJAQZ",
        "colab_type": "code",
        "colab": {
          "autoexec": {
            "startup": false,
            "wait_interval": 0
          }
        }
      },
      "cell_type": "code",
      "source": [
        "# System hyper parameters here\n",
        "\n",
        "# How many characters before and after the main char to feed the NN\n",
        "PADDING = 20 \n",
        "\n",
        "\n",
        "'''\n",
        "Ignore:           0\n",
        "Sender Name:      1 \n",
        "Sender KVK:       2 \n",
        "Sender IBAN:      3 \n",
        "Invoice Reference:4\n",
        "Total:            5\n",
        "'''\n",
        "N_CLASSES = 6"
      ],
      "execution_count": 0,
      "outputs": []
    },
    {
      "metadata": {
        "id": "B5nyjD3ZJAQd",
        "colab_type": "code",
        "colab": {
          "autoexec": {
            "startup": false,
            "wait_interval": 0
          }
        }
      },
      "cell_type": "code",
      "source": [
        "# Invoice data generator\n",
        "from templates.invoicegen import create_invoice"
      ],
      "execution_count": 0,
      "outputs": []
    },
    {
      "metadata": {
        "id": "U80fgzU4JAQg",
        "colab_type": "code",
        "colab": {
          "autoexec": {
            "startup": false,
            "wait_interval": 0
          },
          "output_extras": [
            {
              "item_id": 1
            }
          ],
          "base_uri": "https://localhost:8080/",
          "height": 34
        },
        "outputId": "5af409b9-23d0-442f-a748-10446a091b9e",
        "executionInfo": {
          "status": "ok",
          "timestamp": 1521492814005,
          "user_tz": -60,
          "elapsed": 1641,
          "user": {
            "displayName": "Fernando Lasso",
            "photoUrl": "//lh5.googleusercontent.com/-nEu68SAVl9Y/AAAAAAAAAAI/AAAAAAAABSo/fc8BpWFBAC8/s50-c-k-no/photo.jpg",
            "userId": "102520388349909004575"
          }
        }
      },
      "cell_type": "code",
      "source": [
        "\n",
        "# Your friendly tokenizer\n",
        "from keras.preprocessing.text import Tokenizer\n",
        "\n",
        "# Numpy\n",
        "import numpy as np\n",
        "\n",
        "#Pandas of course too\n",
        "import pandas as pd"
      ],
      "execution_count": 4,
      "outputs": [
        {
          "output_type": "stream",
          "text": [
            "Using TensorFlow backend.\n"
          ],
          "name": "stderr"
        }
      ]
    },
    {
      "metadata": {
        "id": "h8AtNKmOJAQn",
        "colab_type": "code",
        "colab": {
          "autoexec": {
            "startup": false,
            "wait_interval": 0
          }
        }
      },
      "cell_type": "code",
      "source": [
        "# Create 100 invoices for each template\n",
        "\n",
        "invoices = []\n",
        "targets = []\n",
        "\n",
        "# Load template 1\n",
        "with open('templates/TEMPLATE_1.txt', 'r') as content_file:\n",
        "    content = content_file.read()\n",
        "\n",
        "# Create invoices from template\n",
        "for i in range(100):\n",
        "    inv, tar = create_invoice(content)\n",
        "    invoices.append(inv)\n",
        "    targets.append(tar)\n",
        "    \n",
        "# Load template 2\n",
        "with open('templates/TEMPLATE_2.txt', 'r') as content_file:\n",
        "    content = content_file.read()\n",
        "    \n",
        "# Create invoices from template\n",
        "for i in range(100):\n",
        "    inv, tar = create_invoice(content)\n",
        "    invoices.append(inv)\n",
        "    targets.append(tar)"
      ],
      "execution_count": 0,
      "outputs": []
    },
    {
      "metadata": {
        "id": "5U69d52YJAQr",
        "colab_type": "code",
        "colab": {
          "autoexec": {
            "startup": false,
            "wait_interval": 0
          },
          "output_extras": [
            {
              "item_id": 1
            }
          ],
          "base_uri": "https://localhost:8080/",
          "height": 34
        },
        "outputId": "33a4fdcb-c92b-4833-f204-c08042728a9a",
        "executionInfo": {
          "status": "ok",
          "timestamp": 1521492815439,
          "user_tz": -60,
          "elapsed": 756,
          "user": {
            "displayName": "Fernando Lasso",
            "photoUrl": "//lh5.googleusercontent.com/-nEu68SAVl9Y/AAAAAAAAAAI/AAAAAAAABSo/fc8BpWFBAC8/s50-c-k-no/photo.jpg",
            "userId": "102520388349909004575"
          }
        }
      },
      "cell_type": "code",
      "source": [
        "len(targets)"
      ],
      "execution_count": 6,
      "outputs": [
        {
          "output_type": "execute_result",
          "data": {
            "text/plain": [
              "200"
            ]
          },
          "metadata": {
            "tags": []
          },
          "execution_count": 6
        }
      ]
    },
    {
      "metadata": {
        "id": "Xwm5ToJGJAQv",
        "colab_type": "text"
      },
      "cell_type": "markdown",
      "source": [
        "## Generate substring"
      ]
    },
    {
      "metadata": {
        "id": "Lv7HCR6ZJAQv",
        "colab_type": "code",
        "colab": {
          "autoexec": {
            "startup": false,
            "wait_interval": 0
          }
        }
      },
      "cell_type": "code",
      "source": [
        "# Create our tokenizer\n",
        "# We will tokenize on character level!\n",
        "# We will NOT remove any characters\n",
        "tokenizer = Tokenizer(char_level=True, filters=None)\n",
        "tokenizer.fit_on_texts(invoices)"
      ],
      "execution_count": 0,
      "outputs": []
    },
    {
      "metadata": {
        "id": "fardNlOkJAQz",
        "colab_type": "code",
        "colab": {
          "autoexec": {
            "startup": false,
            "wait_interval": 0
          }
        }
      },
      "cell_type": "code",
      "source": [
        "def gen_sub(inv,tar,pad, m = None):\n",
        "    '''\n",
        "    Generates a substring from invoice inv and target list tar \n",
        "    using the character at index m as a midpoint.\n",
        "    \n",
        "    Params:\n",
        "    inv - an invoice string\n",
        "    tar - a target list specifying the type of each item\n",
        "    pad - the amount of padding to attach before and after the focus character\n",
        "    \n",
        "    Returns:\n",
        "    sub - a string with pad characters, the focus character, pad characters\n",
        "    '''\n",
        "    # If no focus character index is set, choose at random\n",
        "    if m == None:\n",
        "        m = np.random.randint(0,len(inv))\n",
        "        \n",
        "    l = m - pad # define the lower bound of our substring\n",
        "    h = m + pad + 1 # define the upper (high) of our substring\n",
        "\n",
        "    # Sometimes, our lower bound could be below zero\n",
        "    # In this case we attach the remaining characters from the back of the string\n",
        "    if l < 0:\n",
        "        s1 = ''.zfill(-1*l)\n",
        "        s2 = inv[None:h]\n",
        "        # Create substring\n",
        "        sub = s1 + s2\n",
        "        \n",
        "        # Ensure the substring has the right length\n",
        "        assert(len(sub) == pad*2 +1)\n",
        "        return sub, tar[m]\n",
        "    \n",
        "    # Our lower bound might be positive but our upper bound might \n",
        "    # still be above the length of the invoice\n",
        "    elif h >= len(inv):\n",
        "        # Calc how many chars are too much\n",
        "        overlap = h - len(inv)\n",
        "        # Get string from lower bound to end\n",
        "        s1 = inv[l:None]\n",
        "        # Get string from the front of the doc\n",
        "        s2 = ''.zfill(overlap)\n",
        "        sub = s1 + s2\n",
        "        # Make sure our string has the correct length\n",
        "        assert(len(sub) == pad*2 +1)\n",
        "        return sub, tar[m]\n",
        "    \n",
        "    # Upper and lower bound lie within the length of the invoice\n",
        "    else: \n",
        "        sub = inv[l:h]\n",
        "        assert(len(sub) == pad*2 +1)\n",
        "        return sub, tar[m]"
      ],
      "execution_count": 0,
      "outputs": []
    },
    {
      "metadata": {
        "id": "LloL1ejTJAQ5",
        "colab_type": "text"
      },
      "cell_type": "markdown",
      "source": [
        "## Generate dataset for training"
      ]
    },
    {
      "metadata": {
        "id": "O1rC068zJAQ5",
        "colab_type": "code",
        "colab": {
          "autoexec": {
            "startup": false,
            "wait_interval": 0
          }
        }
      },
      "cell_type": "code",
      "source": [
        "def gen_dataset(sample_size, n_classes, invoices, targets, tokenizer):\n",
        "    '''\n",
        "    Generate a dataset of inputs and outputs for our neural network\n",
        "    \n",
        "    Params:\n",
        "    sample_size - desired sample size\n",
        "    n_classes - number of classes\n",
        "    invoices - list of invoices to sample from\n",
        "    targets - list of corresonding targets to sample from\n",
        "    tokenizer - a keras tokenizer fit on the invoices\n",
        "    \n",
        "    The function creates balanced samples by randomly sampling untill \n",
        "    an equal amount of samples of all types is created.\n",
        "    \n",
        "    Characters are one hot encoded\n",
        "    \n",
        "    Returns:\n",
        "    x_arr: a numpy array of shape (sample_size, seqence length, number of unique characters)\n",
        "    y_arr: a numpy array of shape (sample_size,)\n",
        "    '''\n",
        "    \n",
        "    # Create a budget\n",
        "    budget = [sample_size / n_classes] * n_classes\n",
        "    \n",
        "    # Setup holding variables\n",
        "    X_train = []\n",
        "    y_train = []\n",
        "\n",
        "    # While there is still a budget left...\n",
        "    while sum(budget) > 0:\n",
        "        # ... get a random invoice and target list\n",
        "        index = np.random.randint(0,len(invoices))\n",
        "        inv = invoices[index]\n",
        "        tar = targets[index]\n",
        "        # ... sample up to 10 items from this invoice \n",
        "        for j in range(10):\n",
        "            # Get an item\n",
        "            x, y = gen_sub(inv,tar,PADDING)\n",
        "            # if we still have a budget for this items target\n",
        "            if budget[y] > 0:\n",
        "                # Tokenize to one hot\n",
        "                xm = tokenizer.texts_to_matrix(x)\n",
        "                # Add data and target\n",
        "                X_train.append(xm)\n",
        "                y_train.append(y)\n",
        "                budget[y] -= 1\n",
        "      \n",
        "    # Create numpy arrays from all data and targets\n",
        "    x_arr = np.array(X_train)\n",
        "    y_arr = np.array(y_train)\n",
        "    return x_arr,y_arr"
      ],
      "execution_count": 0,
      "outputs": []
    },
    {
      "metadata": {
        "id": "yGA5pV-3JAQ8",
        "colab_type": "code",
        "colab": {
          "autoexec": {
            "startup": false,
            "wait_interval": 0
          }
        }
      },
      "cell_type": "code",
      "source": [
        "# Ger data\n",
        "train_size = 12000\n",
        "val_size = 120\n",
        "\n",
        "x_tr, y_tr = gen_dataset(train_size, N_CLASSES, invoices, targets, tokenizer)\n",
        "x_val, y_val = gen_dataset(val_size, N_CLASSES, invoices, targets, tokenizer)"
      ],
      "execution_count": 0,
      "outputs": []
    },
    {
      "metadata": {
        "id": "crz627iyJAQ_",
        "colab_type": "code",
        "colab": {
          "autoexec": {
            "startup": false,
            "wait_interval": 0
          },
          "output_extras": [
            {
              "item_id": 1
            }
          ],
          "base_uri": "https://localhost:8080/",
          "height": 34
        },
        "outputId": "0b33203c-ad3a-4849-bda9-57bec518190d",
        "executionInfo": {
          "status": "ok",
          "timestamp": 1521492822922,
          "user_tz": -60,
          "elapsed": 418,
          "user": {
            "displayName": "Fernando Lasso",
            "photoUrl": "//lh5.googleusercontent.com/-nEu68SAVl9Y/AAAAAAAAAAI/AAAAAAAABSo/fc8BpWFBAC8/s50-c-k-no/photo.jpg",
            "userId": "102520388349909004575"
          }
        }
      },
      "cell_type": "code",
      "source": [
        "x_tr.shape"
      ],
      "execution_count": 11,
      "outputs": [
        {
          "output_type": "execute_result",
          "data": {
            "text/plain": [
              "(12000, 41, 83)"
            ]
          },
          "metadata": {
            "tags": []
          },
          "execution_count": 11
        }
      ]
    },
    {
      "metadata": {
        "id": "82CcOTIgJARD",
        "colab_type": "text"
      },
      "cell_type": "markdown",
      "source": [
        "## Model building"
      ]
    },
    {
      "metadata": {
        "id": "JJ977SYzJARD",
        "colab_type": "code",
        "colab": {
          "autoexec": {
            "startup": false,
            "wait_interval": 0
          }
        }
      },
      "cell_type": "code",
      "source": [
        "from keras.models import Sequential\n",
        "from keras.layers import SimpleRNN, Dense,Activation, Conv1D, MaxPool1D,LSTM"
      ],
      "execution_count": 0,
      "outputs": []
    },
    {
      "metadata": {
        "id": "IFzNMcqSJARG",
        "colab_type": "code",
        "colab": {
          "autoexec": {
            "startup": false,
            "wait_interval": 0
          }
        }
      },
      "cell_type": "code",
      "source": [
        "# Model to recognize types\n",
        "model = Sequential()\n",
        "model.add(Conv1D(63,2,input_shape=(None,83)))\n",
        "model.add(MaxPool1D(2))\n",
        "model.add(Conv1D(42,2))\n",
        "model.add(MaxPool1D(2))\n",
        "model.add(LSTM(20))\n",
        "model.add(Dense(6))\n",
        "model.add(Activation('softmax'))"
      ],
      "execution_count": 0,
      "outputs": []
    },
    {
      "metadata": {
        "id": "UNYPtr9zJARJ",
        "colab_type": "code",
        "colab": {
          "autoexec": {
            "startup": false,
            "wait_interval": 0
          }
        }
      },
      "cell_type": "code",
      "source": [
        "# sparse_categorical_crossentropy is like categorical crossentropy but without converting targets to one hot\n",
        "model.compile(loss='sparse_categorical_crossentropy',optimizer='adam', metrics=['acc'])"
      ],
      "execution_count": 0,
      "outputs": []
    },
    {
      "metadata": {
        "id": "p2JL9ObQJARL",
        "colab_type": "code",
        "colab": {
          "autoexec": {
            "startup": false,
            "wait_interval": 0
          },
          "output_extras": [
            {
              "item_id": 76
            },
            {
              "item_id": 155
            },
            {
              "item_id": 187
            },
            {
              "item_id": 188
            }
          ],
          "base_uri": "https://localhost:8080/",
          "height": 348
        },
        "outputId": "451f06bc-3312-412f-ddf3-1c5c72d29bc2",
        "executionInfo": {
          "status": "ok",
          "timestamp": 1521492900427,
          "user_tz": -60,
          "elapsed": 48817,
          "user": {
            "displayName": "Fernando Lasso",
            "photoUrl": "//lh5.googleusercontent.com/-nEu68SAVl9Y/AAAAAAAAAAI/AAAAAAAABSo/fc8BpWFBAC8/s50-c-k-no/photo.jpg",
            "userId": "102520388349909004575"
          }
        }
      },
      "cell_type": "code",
      "source": [
        "#Not to many epochs (avoid overfitting)\n",
        "model.fit(x_tr,y_tr,batch_size=32,epochs=8,validation_data=(x_val,y_val))"
      ],
      "execution_count": 19,
      "outputs": [
        {
          "output_type": "stream",
          "text": [
            "Train on 12000 samples, validate on 120 samples\n",
            "Epoch 1/8\n",
            "12000/12000 [==============================] - 6s 504us/step - loss: 0.3104 - acc: 0.9229 - val_loss: 0.0897 - val_acc: 0.9750\n",
            "Epoch 2/8\n",
            "12000/12000 [==============================] - 6s 481us/step - loss: 0.0506 - acc: 0.9878 - val_loss: 0.0960 - val_acc: 0.9750\n",
            "Epoch 3/8\n",
            "12000/12000 [==============================] - 6s 505us/step - loss: 0.0272 - acc: 0.9942 - val_loss: 0.0675 - val_acc: 0.9917\n",
            "Epoch 4/8\n",
            " 2880/12000 [======>.......................] - ETA: 4s - loss: 0.0208 - acc: 0.9955"
          ],
          "name": "stdout"
        },
        {
          "output_type": "stream",
          "text": [
            "12000/12000 [==============================] - 6s 501us/step - loss: 0.0222 - acc: 0.9951 - val_loss: 0.0751 - val_acc: 0.9833\n",
            "Epoch 5/8\n",
            "12000/12000 [==============================] - 6s 496us/step - loss: 0.0200 - acc: 0.9952 - val_loss: 0.0518 - val_acc: 0.9917\n",
            "Epoch 6/8\n",
            "12000/12000 [==============================] - 6s 500us/step - loss: 0.0141 - acc: 0.9966 - val_loss: 0.0616 - val_acc: 0.9917\n",
            "Epoch 7/8\n",
            " 8160/12000 [===================>..........] - ETA: 1s - loss: 0.0097 - acc: 0.9979"
          ],
          "name": "stdout"
        },
        {
          "output_type": "stream",
          "text": [
            "12000/12000 [==============================] - 6s 479us/step - loss: 0.0094 - acc: 0.9980 - val_loss: 0.0578 - val_acc: 0.9917\n",
            "Epoch 8/8\n",
            "12000/12000 [==============================] - 6s 488us/step - loss: 0.0104 - acc: 0.9975 - val_loss: 0.0617 - val_acc: 0.9917\n"
          ],
          "name": "stdout"
        },
        {
          "output_type": "execute_result",
          "data": {
            "text/plain": [
              "<keras.callbacks.History at 0x7f6067cbb400>"
            ]
          },
          "metadata": {
            "tags": []
          },
          "execution_count": 19
        }
      ]
    },
    {
      "metadata": {
        "id": "64vCXL2TJARO",
        "colab_type": "text"
      },
      "cell_type": "markdown",
      "source": [
        "## Generate demo invoice"
      ]
    },
    {
      "metadata": {
        "id": "VVq9JpSCJARO",
        "colab_type": "code",
        "colab": {
          "autoexec": {
            "startup": false,
            "wait_interval": 0
          },
          "output_extras": [
            {
              "item_id": 1
            }
          ],
          "base_uri": "https://localhost:8080/",
          "height": 288
        },
        "outputId": "1e2c669b-1738-45d7-8983-7e096b9c8251",
        "executionInfo": {
          "status": "ok",
          "timestamp": 1521492900920,
          "user_tz": -60,
          "elapsed": 458,
          "user": {
            "displayName": "Fernando Lasso",
            "photoUrl": "//lh5.googleusercontent.com/-nEu68SAVl9Y/AAAAAAAAAAI/AAAAAAAABSo/fc8BpWFBAC8/s50-c-k-no/photo.jpg",
            "userId": "102520388349909004575"
          }
        }
      },
      "cell_type": "code",
      "source": [
        "'''\n",
        "To make predictions from our model, we need to create \n",
        "sequences around every character from the invoice.\n",
        "\n",
        "We the making predictions for every charater based on their invoice\n",
        "'''\n",
        "\n",
        "def get_invoice(specific=-1):\n",
        "    if(specific>-1):\n",
        "        index = specific\n",
        "    else:\n",
        "        # Choose a random invoice:\n",
        "        index = np.random.randint(0,len(invoices))\n",
        "    inv = invoices[index]\n",
        "    tar = targets[index]\n",
        "\n",
        "\n",
        "    chars = [] # Holds the individual characters\n",
        "    data_seq = [] # Holds the sequences around the characters\n",
        "    y_actual = [] # Holds the true targets for each character\n",
        "\n",
        "    # Loop over characters indices\n",
        "    for i in range(len(inv) -1):\n",
        "        # Create sequence around this character\n",
        "        x,y = gen_sub(inv,tar,PADDING,m=i)\n",
        "        # Tokenize the sequence to one hot\n",
        "        xm = tokenizer.texts_to_matrix(x)\n",
        "        # Get the character itself\n",
        "        c = inv[i]\n",
        "\n",
        "        chars.append(c)\n",
        "        data_seq.append(xm)\n",
        "        y_actual.append(y)\n",
        "    return chars, data_seq, y_actual\n",
        "\n",
        "# Look at specific invoice\n",
        "characters,data, y_true = get_invoice(100)\n",
        "\n",
        "# For demo purposes we can look what our invoice looks like\n",
        "df = pd.DataFrame({'Char':characters,'Target':y_true})\n",
        "\n",
        "# Show all characters belonging to the amount\n",
        "df[df.Target == 5]"
      ],
      "execution_count": 20,
      "outputs": [
        {
          "output_type": "execute_result",
          "data": {
            "text/html": [
              "<div>\n",
              "<style scoped>\n",
              "    .dataframe tbody tr th:only-of-type {\n",
              "        vertical-align: middle;\n",
              "    }\n",
              "\n",
              "    .dataframe tbody tr th {\n",
              "        vertical-align: top;\n",
              "    }\n",
              "\n",
              "    .dataframe thead th {\n",
              "        text-align: right;\n",
              "    }\n",
              "</style>\n",
              "<table border=\"1\" class=\"dataframe\">\n",
              "  <thead>\n",
              "    <tr style=\"text-align: right;\">\n",
              "      <th></th>\n",
              "      <th>Char</th>\n",
              "      <th>Target</th>\n",
              "    </tr>\n",
              "  </thead>\n",
              "  <tbody>\n",
              "    <tr>\n",
              "      <th>308</th>\n",
              "      <td>1</td>\n",
              "      <td>5</td>\n",
              "    </tr>\n",
              "    <tr>\n",
              "      <th>309</th>\n",
              "      <td>7</td>\n",
              "      <td>5</td>\n",
              "    </tr>\n",
              "    <tr>\n",
              "      <th>310</th>\n",
              "      <td>0</td>\n",
              "      <td>5</td>\n",
              "    </tr>\n",
              "    <tr>\n",
              "      <th>311</th>\n",
              "      <td>5</td>\n",
              "      <td>5</td>\n",
              "    </tr>\n",
              "    <tr>\n",
              "      <th>312</th>\n",
              "      <td>0</td>\n",
              "      <td>5</td>\n",
              "    </tr>\n",
              "    <tr>\n",
              "      <th>313</th>\n",
              "      <td>.</td>\n",
              "      <td>5</td>\n",
              "    </tr>\n",
              "    <tr>\n",
              "      <th>314</th>\n",
              "      <td>7</td>\n",
              "      <td>5</td>\n",
              "    </tr>\n",
              "    <tr>\n",
              "      <th>315</th>\n",
              "      <td>7</td>\n",
              "      <td>5</td>\n",
              "    </tr>\n",
              "  </tbody>\n",
              "</table>\n",
              "</div>"
            ],
            "text/plain": [
              "    Char  Target\n",
              "308    1       5\n",
              "309    7       5\n",
              "310    0       5\n",
              "311    5       5\n",
              "312    0       5\n",
              "313    .       5\n",
              "314    7       5\n",
              "315    7       5"
            ]
          },
          "metadata": {
            "tags": []
          },
          "execution_count": 20
        }
      ]
    },
    {
      "metadata": {
        "id": "_KdrkkkYJARm",
        "colab_type": "text"
      },
      "cell_type": "markdown",
      "source": [
        "## Making predictions"
      ]
    },
    {
      "metadata": {
        "id": "e-4IlZFkJARs",
        "colab_type": "code",
        "colab": {
          "autoexec": {
            "startup": false,
            "wait_interval": 0
          }
        }
      },
      "cell_type": "code",
      "source": [
        "#Generate prediction from data\n",
        "def get_preds(data):\n",
        "    x_test = np.array(data)\n",
        "    #print(x_test.shape)\n",
        "    # Make predictions\n",
        "    y_pred = model.predict(x_test)\n",
        "\n",
        "    # Get the maximum likely class\n",
        "    y_pred = y_pred.argmax(axis=1)\n",
        "\n",
        "    # Show how our model predictions look like\n",
        "    #df['Predicted'] = y_pred\n",
        "\n",
        "    # Show all chars that are predicted to belong to the amount\n",
        "    #df[df.Predicted == 5]\n",
        "    \n",
        "    return y_pred\n",
        "\n",
        "y_pred = get_preds(data)# Create test data for predictions with neural net"
      ],
      "execution_count": 0,
      "outputs": []
    },
    {
      "metadata": {
        "id": "PkkBXAx47QEV",
        "colab_type": "code",
        "colab": {
          "autoexec": {
            "startup": false,
            "wait_interval": 0
          },
          "output_extras": [
            {
              "item_id": 1
            }
          ],
          "base_uri": "https://localhost:8080/",
          "height": 498
        },
        "outputId": "9ad8c9d3-2064-45f8-ad86-06e9628377e4",
        "executionInfo": {
          "status": "ok",
          "timestamp": 1521492902329,
          "user_tz": -60,
          "elapsed": 419,
          "user": {
            "displayName": "Fernando Lasso",
            "photoUrl": "//lh5.googleusercontent.com/-nEu68SAVl9Y/AAAAAAAAAAI/AAAAAAAABSo/fc8BpWFBAC8/s50-c-k-no/photo.jpg",
            "userId": "102520388349909004575"
          }
        }
      },
      "cell_type": "code",
      "source": [
        "#Function to group the target observations into one dataframe\n",
        "def melt_info(inv, pred,cut_off=0):\n",
        "    cut_off=int(cut_off)\n",
        "    fromIdx = []\n",
        "    toIdx = []\n",
        "    types = []\n",
        "    fromIdx.append(0)\n",
        "    lastType = pred[0]\n",
        "    types.append(lastType)\n",
        "    # Loop over the target values to get groups\n",
        "    for i in range(len(inv) -1):\n",
        "        curType = pred[i]\n",
        "        if(curType != lastType):\n",
        "            toIdx.append(i)\n",
        "            fromIdx.append(i)\n",
        "            types.append(curType)\n",
        "            lastType = curType\n",
        "    toIdx.append(len(inv)-1)\n",
        "    melted = pd.DataFrame({'From':fromIdx,'To':toIdx,'Type':types})\n",
        "    melted['length'] = [row['To']-row['From'] for idx, row in melted.iterrows()]\n",
        "    melted['Text'] = [inv[row['From']:row['To']] for idx, row in melted.iterrows()]\n",
        "    if(cut_off>0):\n",
        "        for index, row in melted.iterrows():\n",
        "            if(row['length']<cut_off+1):\n",
        "                pred[row['From']:row['To']] = 0\n",
        "        return melt_info(inv, pred)\n",
        "    else:\n",
        "        return melted, pred\n",
        "\n",
        "melted,preds = melt_info(characters,y_pred,0)\n",
        "display(melted)\n"
      ],
      "execution_count": 22,
      "outputs": [
        {
          "output_type": "display_data",
          "data": {
            "text/html": [
              "<div>\n",
              "<style scoped>\n",
              "    .dataframe tbody tr th:only-of-type {\n",
              "        vertical-align: middle;\n",
              "    }\n",
              "\n",
              "    .dataframe tbody tr th {\n",
              "        vertical-align: top;\n",
              "    }\n",
              "\n",
              "    .dataframe thead th {\n",
              "        text-align: right;\n",
              "    }\n",
              "</style>\n",
              "<table border=\"1\" class=\"dataframe\">\n",
              "  <thead>\n",
              "    <tr style=\"text-align: right;\">\n",
              "      <th></th>\n",
              "      <th>From</th>\n",
              "      <th>To</th>\n",
              "      <th>Type</th>\n",
              "      <th>length</th>\n",
              "      <th>Text</th>\n",
              "    </tr>\n",
              "  </thead>\n",
              "  <tbody>\n",
              "    <tr>\n",
              "      <th>0</th>\n",
              "      <td>0</td>\n",
              "      <td>127</td>\n",
              "      <td>0</td>\n",
              "      <td>127</td>\n",
              "      <td>[A, m, a, z, o, n,  , W, e, b,  , S, e, r, v, ...</td>\n",
              "    </tr>\n",
              "    <tr>\n",
              "      <th>1</th>\n",
              "      <td>127</td>\n",
              "      <td>128</td>\n",
              "      <td>4</td>\n",
              "      <td>1</td>\n",
              "      <td>[:]</td>\n",
              "    </tr>\n",
              "    <tr>\n",
              "      <th>2</th>\n",
              "      <td>128</td>\n",
              "      <td>129</td>\n",
              "      <td>0</td>\n",
              "      <td>1</td>\n",
              "      <td>[\\n]</td>\n",
              "    </tr>\n",
              "    <tr>\n",
              "      <th>3</th>\n",
              "      <td>129</td>\n",
              "      <td>139</td>\n",
              "      <td>4</td>\n",
              "      <td>10</td>\n",
              "      <td>[\\n, B, D, S, 9, G, \\n, B, i, l]</td>\n",
              "    </tr>\n",
              "    <tr>\n",
              "      <th>4</th>\n",
              "      <td>139</td>\n",
              "      <td>140</td>\n",
              "      <td>0</td>\n",
              "      <td>1</td>\n",
              "      <td>[l]</td>\n",
              "    </tr>\n",
              "    <tr>\n",
              "      <th>5</th>\n",
              "      <td>140</td>\n",
              "      <td>141</td>\n",
              "      <td>4</td>\n",
              "      <td>1</td>\n",
              "      <td>[ ]</td>\n",
              "    </tr>\n",
              "    <tr>\n",
              "      <th>6</th>\n",
              "      <td>141</td>\n",
              "      <td>177</td>\n",
              "      <td>0</td>\n",
              "      <td>36</td>\n",
              "      <td>[t, o,  , A, d, d, r, e, s, s, :, \\n, \\n, A, T...</td>\n",
              "    </tr>\n",
              "    <tr>\n",
              "      <th>7</th>\n",
              "      <td>177</td>\n",
              "      <td>178</td>\n",
              "      <td>1</td>\n",
              "      <td>1</td>\n",
              "      <td>[.]</td>\n",
              "    </tr>\n",
              "    <tr>\n",
              "      <th>8</th>\n",
              "      <td>178</td>\n",
              "      <td>185</td>\n",
              "      <td>0</td>\n",
              "      <td>7</td>\n",
              "      <td>[\\n, B, o, o, m, p, j]</td>\n",
              "    </tr>\n",
              "    <tr>\n",
              "      <th>9</th>\n",
              "      <td>185</td>\n",
              "      <td>186</td>\n",
              "      <td>1</td>\n",
              "      <td>1</td>\n",
              "      <td>[e]</td>\n",
              "    </tr>\n",
              "    <tr>\n",
              "      <th>10</th>\n",
              "      <td>186</td>\n",
              "      <td>306</td>\n",
              "      <td>0</td>\n",
              "      <td>120</td>\n",
              "      <td>[s,  , 4, 0, \\n, 3, 0, 1, 1, X, B,  , R, o, t,...</td>\n",
              "    </tr>\n",
              "    <tr>\n",
              "      <th>11</th>\n",
              "      <td>306</td>\n",
              "      <td>307</td>\n",
              "      <td>5</td>\n",
              "      <td>1</td>\n",
              "      <td>[\\n]</td>\n",
              "    </tr>\n",
              "    <tr>\n",
              "      <th>12</th>\n",
              "      <td>307</td>\n",
              "      <td>308</td>\n",
              "      <td>0</td>\n",
              "      <td>1</td>\n",
              "      <td>[\\n]</td>\n",
              "    </tr>\n",
              "    <tr>\n",
              "      <th>13</th>\n",
              "      <td>308</td>\n",
              "      <td>319</td>\n",
              "      <td>5</td>\n",
              "      <td>11</td>\n",
              "      <td>[1, 7, 0, 5, 0, ., 7, 7, \\n, \\n, T]</td>\n",
              "    </tr>\n",
              "    <tr>\n",
              "      <th>14</th>\n",
              "      <td>319</td>\n",
              "      <td>1577</td>\n",
              "      <td>0</td>\n",
              "      <td>1258</td>\n",
              "      <td>[h, i, s,  , i, n, v, o, i, c, e,  , i, s,  , ...</td>\n",
              "    </tr>\n",
              "  </tbody>\n",
              "</table>\n",
              "</div>"
            ],
            "text/plain": [
              "    From    To  Type  length  \\\n",
              "0      0   127     0     127   \n",
              "1    127   128     4       1   \n",
              "2    128   129     0       1   \n",
              "3    129   139     4      10   \n",
              "4    139   140     0       1   \n",
              "5    140   141     4       1   \n",
              "6    141   177     0      36   \n",
              "7    177   178     1       1   \n",
              "8    178   185     0       7   \n",
              "9    185   186     1       1   \n",
              "10   186   306     0     120   \n",
              "11   306   307     5       1   \n",
              "12   307   308     0       1   \n",
              "13   308   319     5      11   \n",
              "14   319  1577     0    1258   \n",
              "\n",
              "                                                 Text  \n",
              "0   [A, m, a, z, o, n,  , W, e, b,  , S, e, r, v, ...  \n",
              "1                                                 [:]  \n",
              "2                                                [\\n]  \n",
              "3                    [\\n, B, D, S, 9, G, \\n, B, i, l]  \n",
              "4                                                 [l]  \n",
              "5                                                 [ ]  \n",
              "6   [t, o,  , A, d, d, r, e, s, s, :, \\n, \\n, A, T...  \n",
              "7                                                 [.]  \n",
              "8                              [\\n, B, o, o, m, p, j]  \n",
              "9                                                 [e]  \n",
              "10  [s,  , 4, 0, \\n, 3, 0, 1, 1, X, B,  , R, o, t,...  \n",
              "11                                               [\\n]  \n",
              "12                                               [\\n]  \n",
              "13                [1, 7, 0, 5, 0, ., 7, 7, \\n, \\n, T]  \n",
              "14  [h, i, s,  , i, n, v, o, i, c, e,  , i, s,  , ...  "
            ]
          },
          "metadata": {
            "tags": []
          }
        }
      ]
    },
    {
      "metadata": {
        "id": "huqTFe-K7QEZ",
        "colab_type": "code",
        "colab": {
          "autoexec": {
            "startup": false,
            "wait_interval": 0
          }
        }
      },
      "cell_type": "code",
      "source": [
        "# Method to clean the names in the categorisation.\n",
        "def cleanNames(inv,pred,melted):\n",
        "    #Find one name only\n",
        "    found_name = False\n",
        "    #Iterate over rows\n",
        "    for index, row in melted.iterrows():\n",
        "        #Check if categorised as name\n",
        "        if(row['Type']==1):\n",
        "            if(found_name or row['length']<9):\n",
        "                pred[row['From']:row['To']] = 0\n",
        "            else:\n",
        "                found_name = True\n",
        "    return pred\n",
        "       \n",
        "y_cleaned = cleanNames(characters,y_pred,melted)\n",
        "#y_cleaned"
      ],
      "execution_count": 0,
      "outputs": []
    },
    {
      "metadata": {
        "id": "WcQM9lvw7QEc",
        "colab_type": "code",
        "colab": {
          "autoexec": {
            "startup": false,
            "wait_interval": 0
          }
        }
      },
      "cell_type": "code",
      "source": [
        "#Use regex to narrow down the prediction\n",
        "import re\n",
        "def cleanByRegex(inv,pred,melted,type_idx,pattern,padding):\n",
        "    #Iterate over rows melted frame\n",
        "    for index,row in melted.iterrows():\n",
        "        if(row['Type']==type_idx):\n",
        "            subString = ''.join(inv[row['From']-padding:row['To']+padding])\n",
        "            find = re.search(pattern,subString,flags=0)\n",
        "            if(find):\n",
        "                print(\"success on \"+str(type_idx))\n",
        "                from_idx = row['From']-padding+find.span()[0]\n",
        "                to_idx = row['From']-padding+find.span()[1]\n",
        "                for index, elem in enumerate(pred):\n",
        "                    if(index not in range(from_idx,to_idx) and elem==type_idx):\n",
        "                        pred[index]=0\n",
        "                \n",
        "    return pred "
      ],
      "execution_count": 0,
      "outputs": []
    },
    {
      "metadata": {
        "id": "7ejmgGDW7QEf",
        "colab_type": "code",
        "colab": {
          "autoexec": {
            "startup": false,
            "wait_interval": 0
          }
        }
      },
      "cell_type": "code",
      "source": [
        "#This method is still in progress. Eventually, desirable to post-process the\n",
        "#features containing new lines in them\n",
        "def cleanByNewline(inv,pred,melted,type_idx,pattern,padding):\n",
        "    #Iterate over rows melted frame\n",
        "    for index,row in melted.iterrows():\n",
        "        if(row['Type']==type_idx):\n",
        "            subString = ''.join(inv[row['From']-padding:row['To']+padding])\n",
        "            find = re.search(pattern,subString,flags=0)\n",
        "            if(find):\n",
        "                print(\"success on \"+str(type_idx))\n",
        "                from_idx = row['From']-padding+find.span()[0]\n",
        "                to_idx = row['From']-padding+find.span()[1]\n",
        "                for index, elem in enumerate(pred):\n",
        "                    if(index not in range(from_idx,to_idx) and elem==type_idx):\n",
        "                        pred[index]=0\n",
        "    return pred "
      ],
      "execution_count": 0,
      "outputs": []
    },
    {
      "metadata": {
        "id": "luFpLAOT7QEi",
        "colab_type": "code",
        "colab": {
          "autoexec": {
            "startup": false,
            "wait_interval": 0
          },
          "output_extras": [
            {
              "item_id": 1
            },
            {
              "item_id": 2
            }
          ],
          "base_uri": "https://localhost:8080/",
          "height": 393
        },
        "outputId": "52df7deb-684d-4bc3-ef7c-d86215d8cca1",
        "executionInfo": {
          "status": "ok",
          "timestamp": 1521492905347,
          "user_tz": -60,
          "elapsed": 729,
          "user": {
            "displayName": "Fernando Lasso",
            "photoUrl": "//lh5.googleusercontent.com/-nEu68SAVl9Y/AAAAAAAAAAI/AAAAAAAABSo/fc8BpWFBAC8/s50-c-k-no/photo.jpg",
            "userId": "102520388349909004575"
          }
        }
      },
      "cell_type": "code",
      "source": [
        "## show confusion matrix\n",
        "from sklearn.metrics import accuracy_score, confusion_matrix\n",
        "import matplotlib\n",
        "import matplotlib.pyplot as plt\n",
        "import seaborn as sns\n",
        "\n",
        "cnf_matrix = confusion_matrix(y_true, y_pred)\n",
        "\n",
        "#abbreviation = ['BG', 'Ch', 'Cl', 'CC', 'CW', 'FH', 'LSB', 'M', 'SM', 'SP', 'SFC', 'SB']\n",
        "#pd.DataFrame({'class': species, 'abbreviation': abbreviation})\n",
        "\n",
        "fig, ax = plt.subplots(1)\n",
        "ax = sns.heatmap(cnf_matrix, ax=ax, cmap=plt.cm.Greens, annot=True)\n",
        "#ax.set_xticklabels(abbreviation)\n",
        "#ax.set_yticklabels(abbreviation)\n",
        "plt.title('Confusion matrix of validation set')\n",
        "plt.ylabel('True category')\n",
        "plt.xlabel('Predicted category')\n",
        "plt.show();\n",
        "\n",
        "'''\n",
        "Ignore:           0\n",
        "Sender Name:      1 \n",
        "Sender KVK:       2 \n",
        "Sender IBAN:      3 \n",
        "Invoice Reference:4\n",
        "Total:            5\n",
        "'''"
      ],
      "execution_count": 26,
      "outputs": [
        {
          "output_type": "display_data",
          "data": {
            "image/png": "[encoded data removed]",
            "text/plain": [
              "<matplotlib.figure.Figure at 0x7f60652da358>"
            ]
          },
          "metadata": {
            "tags": []
          }
        },
        {
          "output_type": "execute_result",
          "data": {
            "text/plain": [
              "'\\nIgnore:           0\\nSender Name:      1 \\nSender KVK:       2 \\nSender IBAN:      3 \\nInvoice Reference:4\\nTotal:            5\\n'"
            ]
          },
          "metadata": {
            "tags": []
          },
          "execution_count": 26
        }
      ]
    },
    {
      "metadata": {
        "id": "tvk0pFS87QEn",
        "colab_type": "text"
      },
      "cell_type": "markdown",
      "source": [
        "Test on many invoices and average the accuracies"
      ]
    },
    {
      "metadata": {
        "id": "CRp3ZKWX7QEo",
        "colab_type": "code",
        "colab": {
          "autoexec": {
            "startup": false,
            "wait_interval": 0
          },
          "output_extras": [
            {
              "item_id": 62
            },
            {
              "item_id": 85
            }
          ],
          "base_uri": "https://localhost:8080/",
          "height": 5717
        },
        "outputId": "845479be-6da0-4978-860f-545eaae97deb",
        "executionInfo": {
          "status": "ok",
          "timestamp": 1521493143132,
          "user_tz": -60,
          "elapsed": 28940,
          "user": {
            "displayName": "Fernando Lasso",
            "photoUrl": "//lh5.googleusercontent.com/-nEu68SAVl9Y/AAAAAAAAAAI/AAAAAAAABSo/fc8BpWFBAC8/s50-c-k-no/photo.jpg",
            "userId": "102520388349909004575"
          }
        }
      },
      "cell_type": "code",
      "source": [
        "#Function to generate random invoices and test the accuracy of the model versus\n",
        "#the accuracy of the post processing estimations\n",
        "def test_quality(inv_n,seed=0):\n",
        "    accuracies = []\n",
        "    accuracies_clean = []\n",
        "    '''\n",
        "    Ignore:           0\n",
        "    Sender Name:      1 \n",
        "    Sender KVK:       2 \n",
        "    Sender IBAN:      3 \n",
        "    Invoice Reference:4\n",
        "    Total:            5\n",
        "    '''\n",
        "    #Regex patterns\n",
        "    patterns = [r'[0-9]{8}',\n",
        "                r'[A-Z]{2}[0-9]{2}[A-Z]{4}[0-9]{10}',\n",
        "                r'([A-Z]|[0-9]){5}',\n",
        "                r'€ [0-9]']\n",
        "    #Paddings around regex search \n",
        "    paddings = [1,20,1,5]\n",
        "    \n",
        "    #Generate inv_n amount of invoices \n",
        "    for i in range(inv_n):\n",
        "        #Get specific invoice or generate random\n",
        "        if(seed>0):\n",
        "          chars,data,y_true = get_invoice(seed)\n",
        "        else:\n",
        "          chars,data,y_true = get_invoice()\n",
        "          \n",
        "        #Get predicted ys\n",
        "        y_pred = get_preds(data)\n",
        "        #Calculate accuracy in percentage\n",
        "        accuracies.append(sum(1 for x,y in zip(y_true,y_pred) if x == y) / len(y_true))\n",
        "        \n",
        "        #Get melted info and clean predictions from small length prediction\n",
        "        melted,pred =melt_info(chars,y_pred,5)\n",
        "        \n",
        "        #Clean name sections\n",
        "        y_cleaned = cleanNames(chars,y_pred,melted)\n",
        "        \n",
        "        #Match regex per category to have more precise estimate\n",
        "        for j in range(0,4):\n",
        "            y_cleaned = cleanByRegex(chars,y_cleaned,melted,j+2,patterns[j],paddings[j])\n",
        "        #Calculate accuracy of cleaned predictions\n",
        "        accuracies_clean.append(sum(1 for x,y in zip(y_true,y_cleaned) if x == y) / len(y_true))\n",
        "    print(\"Accuracy before cleaning: \"+str(round(sum(accuracies)/len(accuracies),4)))\n",
        "    print(\"Accuracy after cleaning:\" +str(round(sum(accuracies_clean)/len(accuracies_clean),4)))\n",
        "\n",
        "test_quality(100)\n",
        "\n",
        "#Get example\n",
        "#test_quality(1,20)"
      ],
      "execution_count": 29,
      "outputs": [
        {
          "output_type": "stream",
          "text": [
            "success on 1\n",
            "success on 4\n",
            "success on 1\n",
            "success on 4\n",
            "success on 1\n",
            "success on 2\n",
            "success on 3\n",
            "success on 4\n",
            "success on 5\n",
            "success on 4\n",
            "success on 1\n",
            "success on 2\n",
            "success on 3\n",
            "success on 5\n",
            "success on 1\n",
            "success on 1\n",
            "success on 2\n",
            "success on 3\n",
            "success on 4\n",
            "success on 5\n",
            "success on 4\n",
            "success on 1\n",
            "success on 2\n",
            "success on 3\n",
            "success on 4\n",
            "success on 5\n",
            "success on 1\n",
            "success on 4\n",
            "success on 1\n",
            "success on 2\n",
            "success on 3\n",
            "success on 5\n",
            "success on 1\n",
            "success on 4\n",
            "success on 1\n",
            "success on 2\n",
            "success on 3\n",
            "success on 4\n",
            "success on 5\n",
            "success on 1\n",
            "success on 1\n",
            "success on 2\n",
            "success on 3\n",
            "success on 4\n",
            "success on 5\n",
            "success on 1\n",
            "success on 1\n",
            "success on 2\n",
            "success on 3\n",
            "success on 4\n",
            "success on 5\n",
            "success on 1\n",
            "success on 1\n",
            "success on 2\n",
            "success on 3\n",
            "success on 4\n",
            "success on 5\n",
            "success on 4\n",
            "success on 1\n",
            "success on 1\n",
            "success on 2\n",
            "success on 3\n",
            "success on 4\n",
            "success on 5\n",
            "success on 1\n",
            "success on 4\n",
            "success on 1\n",
            "success on 2\n",
            "success on 3\n",
            "success on 5\n",
            "success on 1\n",
            "success on 2\n",
            "success on 3\n",
            "success on 5\n",
            "success on 4\n",
            "success on 4\n",
            "success on 1\n",
            "success on 4\n",
            "success on 1\n",
            "success on 4\n",
            "success on 1\n",
            "success on 2\n",
            "success on 3\n",
            "success on 4\n",
            "success on 5\n",
            "success on 1\n",
            "success on 1\n",
            "success on 2\n",
            "success on 3\n",
            "success on 4\n",
            "success on 5\n",
            "success on 1\n",
            "success on 1\n",
            "success on 2\n",
            "success on 3\n",
            "success on 4\n",
            "success on 5\n",
            "success on 4\n",
            "success on 4\n",
            "success on 1\n",
            "success on 2\n",
            "success on 3\n",
            "success on 4\n",
            "success on 5\n",
            "success on 4\n",
            "success on 4\n",
            "success on 1\n",
            "success on 4\n",
            "success on 1\n",
            "success on 2\n",
            "success on 3\n",
            "success on 4\n",
            "success on 5\n",
            "success on 4\n",
            "success on 1\n",
            "success on 4\n",
            "success on 4\n",
            "success on 4\n",
            "success on 4\n",
            "success on 1\n",
            "success on 4\n",
            "success on 1\n",
            "success on 1\n",
            "success on 2\n",
            "success on 3\n",
            "success on 4\n",
            "success on 5\n",
            "success on 4\n",
            "success on 1\n",
            "success on 1\n",
            "success on 2\n",
            "success on 3\n",
            "success on 4\n",
            "success on 5\n",
            "success on 1\n",
            "success on 1\n",
            "success on 2\n",
            "success on 3\n",
            "success on 4\n",
            "success on 5\n",
            "success on 1\n",
            "success on 4\n",
            "success on 1\n",
            "success on 1\n",
            "success on 2\n",
            "success on 3\n",
            "success on 5\n",
            "success on 4\n",
            "success on 4\n",
            "success on 4\n",
            "success on 1\n",
            "success on 2\n",
            "success on 3\n",
            "success on 4\n",
            "success on 5\n",
            "success on 4\n",
            "success on 4\n",
            "success on 1\n",
            "success on 2\n",
            "success on 3\n",
            "success on 4\n",
            "success on 5\n",
            "success on 1\n",
            "success on 2\n",
            "success on 3\n",
            "success on 4\n",
            "success on 5\n",
            "success on 4\n",
            "success on 4\n",
            "success on 4\n",
            "success on 1\n",
            "success on 2\n",
            "success on 3\n",
            "success on 4\n",
            "success on 5\n",
            "success on 1\n",
            "success on 2\n",
            "success on 3\n",
            "success on 4\n",
            "success on 5\n",
            "success on 1\n",
            "success on 2\n",
            "success on 3\n",
            "success on 4\n",
            "success on 5\n",
            "success on 1\n",
            "success on 2\n",
            "success on 3\n",
            "success on 4\n",
            "success on 5\n",
            "success on 4\n",
            "success on 1\n",
            "success on 2\n",
            "success on 3\n",
            "success on 4\n",
            "success on 5\n",
            "success on 1\n",
            "success on 1\n",
            "success on 2\n",
            "success on 3\n",
            "success on 4\n",
            "success on 5\n",
            "success on 1\n",
            "success on 1\n",
            "success on 2\n",
            "success on 3\n",
            "success on 4\n",
            "success on 5\n",
            "success on 1\n",
            "success on 2\n",
            "success on 3\n",
            "success on 4\n",
            "success on 5\n",
            "success on 1\n",
            "success on 1\n",
            "success on 2\n",
            "success on 3\n",
            "success on 5\n",
            "success on 1\n",
            "success on 2\n",
            "success on 3\n",
            "success on 4\n",
            "success on 5\n",
            "success on 1\n",
            "success on 2\n",
            "success on 3\n",
            "success on 4\n",
            "success on 5\n",
            "success on 1\n",
            "success on 2\n",
            "success on 3\n",
            "success on 4\n",
            "success on 5\n",
            "success on 4\n",
            "success on 1\n",
            "success on 1\n",
            "success on 2\n",
            "success on 3\n",
            "success on 4\n",
            "success on 5\n",
            "success on 1\n",
            "success on 2\n",
            "success on 3\n",
            "success on 5\n",
            "success on 4\n"
          ],
          "name": "stdout"
        },
        {
          "output_type": "stream",
          "text": [
            "success on 4\n",
            "success on 4\n",
            "success on 1\n",
            "success on 2\n",
            "success on 3\n",
            "success on 4\n",
            "success on 5\n",
            "success on 4\n",
            "success on 1\n",
            "success on 4\n",
            "success on 1\n",
            "success on 4\n",
            "success on 1\n",
            "success on 4\n",
            "success on 1\n",
            "success on 2\n",
            "success on 3\n",
            "success on 4\n",
            "success on 5\n",
            "success on 1\n",
            "success on 1\n",
            "success on 2\n",
            "success on 3\n",
            "success on 4\n",
            "success on 5\n",
            "success on 1\n",
            "success on 2\n",
            "success on 3\n",
            "success on 4\n",
            "success on 5\n",
            "success on 1\n",
            "success on 2\n",
            "success on 3\n",
            "success on 4\n",
            "success on 5\n",
            "success on 1\n",
            "success on 1\n",
            "success on 2\n",
            "success on 3\n",
            "success on 4\n",
            "success on 5\n",
            "success on 1\n",
            "success on 2\n",
            "success on 3\n",
            "success on 4\n",
            "success on 5\n",
            "success on 1\n",
            "success on 4\n",
            "success on 1\n",
            "success on 4\n",
            "success on 4\n",
            "success on 1\n",
            "success on 4\n",
            "success on 1\n",
            "success on 4\n",
            "success on 4\n",
            "success on 1\n",
            "success on 1\n",
            "success on 2\n",
            "success on 3\n",
            "success on 4\n",
            "success on 5\n",
            "success on 1\n",
            "success on 4\n",
            "success on 1\n",
            "success on 4\n",
            "success on 1\n",
            "success on 1\n",
            "success on 2\n",
            "success on 3\n",
            "success on 4\n",
            "success on 5\n",
            "success on 1\n",
            "success on 2\n",
            "success on 3\n",
            "success on 4\n",
            "success on 5\n",
            "success on 1\n",
            "success on 2\n",
            "success on 3\n",
            "success on 5\n",
            "success on 1\n",
            "success on 4\n",
            "Accuracy before cleaning: 0.9815\n",
            "Accuracy after cleaning:0.979\n"
          ],
          "name": "stdout"
        }
      ]
    },
    {
      "metadata": {
        "id": "zRYMUUrTJARy",
        "colab_type": "text"
      },
      "cell_type": "markdown",
      "source": [
        "## Obtain system outputs from predictions"
      ]
    },
    {
      "metadata": {
        "id": "rZHf701mJARz",
        "colab_type": "code",
        "colab": {
          "autoexec": {
            "startup": false,
            "wait_interval": 0
          }
        }
      },
      "cell_type": "code",
      "source": [
        "from itertools import groupby\n",
        "# Create groups by the predicted output\n",
        "# The this code will return a tuple with the format\n",
        "# (category, length, starting index)\n",
        "\n",
        "# TODO: This code is ugly and very hard to understand\n",
        "# But it works\n",
        "\n",
        "# Group by predicted category\n",
        "g = groupby(enumerate(y_pred), lambda x:x[1])\n",
        "\n",
        "# Create list of groups\n",
        "l = [(x[0], list(x[1])) for x in g]\n",
        "\n",
        "# Create list with tuples of groups\n",
        "groups = [(x[0], len(x[1]), x[1][0][0]) for x in l]"
      ],
      "execution_count": 0,
      "outputs": []
    },
    {
      "metadata": {
        "id": "M40M3Y8eJAR2",
        "colab_type": "code",
        "colab": {
          "autoexec": {
            "startup": false,
            "wait_interval": 0
          }
        }
      },
      "cell_type": "code",
      "source": [
        "# Show grouping\n",
        "groups[:10]"
      ],
      "execution_count": 0,
      "outputs": []
    },
    {
      "metadata": {
        "id": "_J6W-RV2JAR4",
        "colab_type": "code",
        "colab": {
          "autoexec": {
            "startup": false,
            "wait_interval": 0
          }
        }
      },
      "cell_type": "code",
      "source": [
        "'''\n",
        "We only want to consider sequences of predictions of the same type \n",
        "that have a minimum length. This way we remove the noise\n",
        "But we also might remove some good predictions\n",
        "\n",
        "The min length is set to 5 here, certainly a value to experiment with\n",
        "'''\n",
        "candidates = []\n",
        "# Loop over all groups\n",
        "for group in groups:\n",
        "    \n",
        "    # Unpack group\n",
        "    category, length, index = group\n",
        "    \n",
        "    # Ignore the ignore category and only consider category sequences longer than 5\n",
        "    if category != 0 and length > 5:\n",
        "        # Create text\n",
        "        candidate_text = ''.join(chars[index:index+length])\n",
        "        # Remove line breaks, this is just one way to prettify outputs!\n",
        "        candidate_text = candidate_text.replace('\\n','')\n",
        "        candidates.append((candidate_text,category))"
      ],
      "execution_count": 0,
      "outputs": []
    },
    {
      "metadata": {
        "id": "q92fYU5HJAR7",
        "colab_type": "code",
        "colab": {
          "autoexec": {
            "startup": false,
            "wait_interval": 0
          }
        }
      },
      "cell_type": "code",
      "source": [
        "# Show predictions\n",
        "\n",
        "'''\n",
        "Ignore:           0\n",
        "Sender Name:      1 \n",
        "Sender KVK:       2 \n",
        "Sender IBAN:      3 \n",
        "Invoice Reference:4\n",
        "Total:            5\n",
        "'''\n",
        "\n",
        "sorted(candidates, key=lambda tup: tup[1])"
      ],
      "execution_count": 0,
      "outputs": []
    },
    {
      "metadata": {
        "id": "pVtUhpFFJAR-",
        "colab_type": "code",
        "colab": {
          "autoexec": {
            "startup": false,
            "wait_interval": 0
          }
        }
      },
      "cell_type": "code",
      "source": [
        ""
      ],
      "execution_count": 0,
      "outputs": []
    },
    {
      "metadata": {
        "id": "ru8U0J-BJASA",
        "colab_type": "code",
        "colab": {
          "autoexec": {
            "startup": false,
            "wait_interval": 0
          }
        }
      },
      "cell_type": "code",
      "source": [
        ""
      ],
      "execution_count": 0,
      "outputs": []
    }
  ]
}